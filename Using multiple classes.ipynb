{
 "cells": [
  {
   "cell_type": "code",
   "execution_count": 21,
   "metadata": {},
   "outputs": [
    {
     "name": "stdout",
     "output_type": "stream",
     "text": [
      "[<__main__.Student object at 0x0000029A87BF17C8>, <__main__.Student object at 0x0000029A87296BC8>]\n",
      "<__main__.Student object at 0x0000029A87BF17C8>\n",
      "Bob\n",
      "91.5\n",
      "91.5\n"
     ]
    }
   ],
   "source": [
    "class Student:\n",
    "    def __init__ (self, name, age, grade):\n",
    "        self.name = name\n",
    "        self.age = age\n",
    "        self.grade = grade # between 0-100\n",
    "    \n",
    "    def get_grade(self):\n",
    "        return self.grade\n",
    "\n",
    "class Course:\n",
    "    def __init__ (self, name, max_students):\n",
    "        self.name = name\n",
    "        self.max_students = max_students\n",
    "         #store students inside the Course object\n",
    "        self.students = []\n",
    "        \n",
    "    #a method that will allow a student object to be added to the [] list\n",
    "    def add_student(self, student):\n",
    "        if len(self.students) < self.max_students:\n",
    "            self.students.append(student)\n",
    "            return True\n",
    "        return False\n",
    "    \n",
    "    def get_average_grade(self):\n",
    "        value = 0\n",
    "        for student in self.students:\n",
    "            value += student.get_grade()\n",
    "            \n",
    "        return value / len(self.students)\n",
    "\n",
    "s1 = Student(\"Bob\", 20, 95)\n",
    "s2 = Student(\"Jill\", 21, 88)\n",
    "s3 = Student(\"Bill\", 21, 90)\n",
    "\n",
    "course = Course(\"Biology\", 2)\n",
    "course.add_student(s1)\n",
    "course.add_student(s2)\n",
    "\n",
    "#printing our the course will list all object names (student) within it 0x0000029A85359748\n",
    "print(course.students)\n",
    "\n",
    "#Gets the first in the list - index 0\n",
    "print(course.students[0])\n",
    "\n",
    "#gets the name of the object\n",
    "print(course.students[0].name)\n",
    "\n",
    "print(course.get_average_grade())\n",
    "\n",
    "#course.add_student(s3)\n",
    "print(course.get_average_grade())"
   ]
  },
  {
   "cell_type": "code",
   "execution_count": null,
   "metadata": {},
   "outputs": [],
   "source": []
  }
 ],
 "metadata": {
  "kernelspec": {
   "display_name": "Python 3",
   "language": "python",
   "name": "python3"
  },
  "language_info": {
   "codemirror_mode": {
    "name": "ipython",
    "version": 3
   },
   "file_extension": ".py",
   "mimetype": "text/x-python",
   "name": "python",
   "nbconvert_exporter": "python",
   "pygments_lexer": "ipython3",
   "version": "3.7.6"
  }
 },
 "nbformat": 4,
 "nbformat_minor": 4
}
