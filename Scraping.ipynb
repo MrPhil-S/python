{
 "cells": [
  {
   "cell_type": "code",
   "execution_count": 9,
   "metadata": {},
   "outputs": [],
   "source": [
    "import requests\n",
    "from bs4 import BeautifulSoup\n"
   ]
  },
  {
   "cell_type": "code",
   "execution_count": 44,
   "metadata": {},
   "outputs": [],
   "source": [
    "url = 'https://my.whisk.com/recipes'\n",
    "#url = 'https://www.imdb.com/chart/top/?ref_=nv_mv_250'\n",
    "html = requests.get(url)"
   ]
  },
  {
   "cell_type": "code",
   "execution_count": 45,
   "metadata": {},
   "outputs": [],
   "source": [
    "##show the html\n",
    "##html.text\n",
    "\n",
    "bsObj = BeautifulSoup(html.text, 'lxml')\n"
   ]
  },
  {
   "cell_type": "code",
   "execution_count": 49,
   "metadata": {},
   "outputs": [
    {
     "data": {
      "text/plain": [
       "'!function(){if(!(-1<location.href.indexOf(\"utm_source=autotest\"))){var t=document.createElement(\"script\");t.type=\"text/javascript\",t.async=!0,t.dataset.cfasync=!1,t.src=\"https://cdn.whisk.com/sdk/analytics.js\",document.body.appendChild(t)}}()!function(e,n,t,o,c,s,a){e.fbq||(c=e.fbq=function(){c.callMethod?c.callMethod.apply(c,arguments):c.queue.push(arguments)},e._fbq||(e._fbq=c),(c.push=c).loaded=!0,c.version=\"2.0\",c.queue=[],(s=n.createElement(t)).async=!0,s.src=\"https://connect.facebook.net/en_US/fbevents.js\",(a=n.getElementsByTagName(t)[0]).parentNode.insertBefore(s,a))}(window,document,\"script\")'"
      ]
     },
     "execution_count": 49,
     "metadata": {},
     "output_type": "execute_result"
    }
   ],
   "source": [
    "#bsObj\n",
    "#1 tag\n",
    "bsObj.find('body').getText()"
   ]
  },
  {
   "cell_type": "code",
   "execution_count": 60,
   "metadata": {},
   "outputs": [
    {
     "ename": "SyntaxError",
     "evalue": "can't assign to operator (<ipython-input-60-cceab8c1d50a>, line 2)",
     "output_type": "error",
     "traceback": [
      "\u001b[1;36m  File \u001b[1;32m\"<ipython-input-60-cceab8c1d50a>\"\u001b[1;36m, line \u001b[1;32m2\u001b[0m\n\u001b[1;33m    for data-testid in rlist:\u001b[0m\n\u001b[1;37m       ^\u001b[0m\n\u001b[1;31mSyntaxError\u001b[0m\u001b[1;31m:\u001b[0m can't assign to operator\n"
     ]
    }
   ],
   "source": [
    "rlist = bsObj.findAll ('div',{'class':'sc-zr8vz4 jTKFok sc-yg6plt bhgFuy'})\n",
    "for data-testid in rlist:\n",
    "    print(data-testid)"
   ]
  },
  {
   "cell_type": "code",
   "execution_count": null,
   "metadata": {},
   "outputs": [],
   "source": []
  }
 ],
 "metadata": {
  "kernelspec": {
   "display_name": "Python 3",
   "language": "python",
   "name": "python3"
  },
  "language_info": {
   "codemirror_mode": {
    "name": "ipython",
    "version": 3
   },
   "file_extension": ".py",
   "mimetype": "text/x-python",
   "name": "python",
   "nbconvert_exporter": "python",
   "pygments_lexer": "ipython3",
   "version": "3.7.6"
  }
 },
 "nbformat": 4,
 "nbformat_minor": 4
}
