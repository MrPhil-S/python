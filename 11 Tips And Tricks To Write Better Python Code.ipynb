{
 "cells": [
  {
   "cell_type": "markdown",
   "metadata": {},
   "source": [
    "1) Iterate with **enumerate** instead of **range(len(x))**\n",
    "    When need the current index AND current item"
   ]
  },
  {
   "cell_type": "code",
   "execution_count": 5,
   "metadata": {},
   "outputs": [
    {
     "name": "stdout",
     "output_type": "stream",
     "text": [
      "[1, 2, 0, 0]\n",
      "[1, 2, 0, 0]\n"
     ]
    }
   ],
   "source": [
    "data = [1, 2, -4, -5]\n",
    "for i in range(len(data)):\n",
    "    if data[i] < 0:\n",
    "        data[i] = 0\n",
    "\n",
    "print(data)\n",
    "\n",
    "#use this instead\n",
    "data = [1, 2, -4, -5]\n",
    "for idx, num in enumerate(data):\n",
    "    if num < 0:\n",
    "        data[idx] = 0\n",
    "#returns both the current index and current item as a tuple\n",
    "#can directly check the value and also the the item with the index\n",
    "print(data)"
   ]
  },
  {
   "cell_type": "markdown",
   "metadata": {},
   "source": [
    "2) Use **list comprehension** instead of raw for loops"
   ]
  },
  {
   "cell_type": "code",
   "execution_count": 7,
   "metadata": {},
   "outputs": [
    {
     "name": "stdout",
     "output_type": "stream",
     "text": [
      "[0, 1, 4, 9, 16, 25, 36, 49, 64, 81]\n",
      "[81, 81, 81, 81, 81, 81, 81, 81, 81, 81]\n"
     ]
    }
   ],
   "source": [
    "#tedious method - using an empty list\n",
    "squares = []\n",
    "for i in range (10):\n",
    "    squares.append(i*i)\n",
    "\n",
    "print(squares)\n",
    "\n",
    "#lsit comprehension - simpler and faster\n",
    "squares = [i*i for I in range(10)]\n",
    "print(squares)"
   ]
  },
  {
   "cell_type": "markdown",
   "metadata": {},
   "source": [
    "3) Sort complex iterables with the built-in **sorted()** method"
   ]
  },
  {
   "cell_type": "code",
   "execution_count": 4,
   "metadata": {},
   "outputs": [
    {
     "name": "stdout",
     "output_type": "stream",
     "text": [
      "[1, 3, 5, 6, 7, 10]\n",
      "[10, 7, 6, 5, 3, 1]\n",
      "[1, 3, 5, 6, 7, 10]\n"
     ]
    }
   ],
   "source": [
    "datalist = [3, 5, 1, 6, 10, 7]\n",
    "sorted_data = sorted(datalist)\n",
    "#returns a list\n",
    "print(sorted_data)\n",
    "\n",
    "sorted_data_rev = sorted(datalist, reverse=True)\n",
    "print(sorted_data_rev)\n",
    "\n",
    "#a tuple will be retured as a list\n",
    "datatuple = (3, 5, 1, 6, 10, 7)\n",
    "sorted_data = sorted(datatuple)\n",
    "print(sorted_data)\n"
   ]
  },
  {
   "cell_type": "code",
   "execution_count": 5,
   "metadata": {},
   "outputs": [
    {
     "name": "stdout",
     "output_type": "stream",
     "text": [
      "[{'name': 'Macy', 'age': 12}, {'name': 'Amber', 'age': 33}, {'name': 'Ted', 'age': 39}]\n"
     ]
    }
   ],
   "source": [
    "#A list [] with dictionaries: sort by age\n",
    "\n",
    "listdict = [\n",
    "    {\"name\": \"Ted\", \"age\": 39},\n",
    "    {\"name\": \"Amber\", \"age\": 33},\n",
    "    {\"name\": \"Macy\", \"age\": 12},]\n",
    "\n",
    "#use the sorted method again, this time pass in the key argument\n",
    "#to be used for sorting.  The key is a function (lambda)\n",
    "sorted_listdict = sorted(listdict, key=lambda x: x[\"age\"])\n",
    "print(sorted_listdict)"
   ]
  },
  {
   "cell_type": "markdown",
   "metadata": {},
   "source": [
    "4) Store unique values with **sets** {} (set - an unordered collection data type with no dup elements)\n",
    "\n",
    "Also allows for Python to optimize the data and also methods for calculating the intersections and differenced between sets (not shown in the below examples)"
   ]
  },
  {
   "cell_type": "code",
   "execution_count": 6,
   "metadata": {},
   "outputs": [
    {
     "name": "stdout",
     "output_type": "stream",
     "text": [
      "{1, 3, 4, 7}\n"
     ]
    }
   ],
   "source": [
    "my_list = [1, 1, 3, 3, 3, 3, 4, 7, 7, 7]\n",
    "my_set = set(my_list)\n",
    "print(my_set)"
   ]
  },
  {
   "cell_type": "markdown",
   "metadata": {},
   "source": [
    "5) Save memory with **Generators**"
   ]
  },
  {
   "cell_type": "code",
   "execution_count": 26,
   "metadata": {},
   "outputs": [
    {
     "name": "stdout",
     "output_type": "stream",
     "text": [
      "49995000\n",
      "87616 bytes\n"
     ]
    }
   ],
   "source": [
    "#list not always the best choice - when it is very large\n",
    "import sys \n",
    "\n",
    "my_list = [i for i in range(10000)]\n",
    "print(sum(my_list))  #<<-- high memory usage\n",
    "print(sys.getsizeof(my_list), \"bytes\")"
   ]
  },
  {
   "cell_type": "code",
   "execution_count": 27,
   "metadata": {},
   "outputs": [
    {
     "name": "stdout",
     "output_type": "stream",
     "text": [
      "49995000\n",
      "112 bytes\n"
     ]
    }
   ],
   "source": [
    "#use parantheses () instead of [] \n",
    "my_gen = (i for i in range(10000))\n",
    "\n",
    "#computes the elements \"lazily\" - Produces 1 item at a time, only when asked for it\n",
    "print(sum(my_gen)) \n",
    "print(sys.getsizeof(my_gen), \"bytes\")\n"
   ]
  },
  {
   "cell_type": "markdown",
   "metadata": {},
   "source": [
    "6) Define default values in Dictionaries with **.get()** and **.setdefault**"
   ]
  },
  {
   "cell_type": "code",
   "execution_count": 35,
   "metadata": {},
   "outputs": [
    {
     "ename": "KeyError",
     "evalue": "'count'",
     "output_type": "error",
     "traceback": [
      "\u001b[1;31m---------------------------------------------------------------------------\u001b[0m",
      "\u001b[1;31mKeyError\u001b[0m                                  Traceback (most recent call last)",
      "\u001b[1;32m<ipython-input-35-ec36afa82f2a>\u001b[0m in \u001b[0;36m<module>\u001b[1;34m\u001b[0m\n\u001b[0;32m      1\u001b[0m \u001b[0mmy_dict\u001b[0m \u001b[1;33m=\u001b[0m \u001b[1;33m{\u001b[0m\u001b[1;34m\"car\"\u001b[0m\u001b[1;33m:\u001b[0m \u001b[1;34m\"BMW\"\u001b[0m\u001b[1;33m,\u001b[0m \u001b[1;34m\"price\"\u001b[0m\u001b[1;33m:\u001b[0m \u001b[1;36m50000\u001b[0m\u001b[1;33m}\u001b[0m\u001b[1;33m\u001b[0m\u001b[1;33m\u001b[0m\u001b[0m\n\u001b[0;32m      2\u001b[0m \u001b[1;31m#we falsy assume the key \"count\" is contained in the dictionary\u001b[0m\u001b[1;33m\u001b[0m\u001b[1;33m\u001b[0m\u001b[1;33m\u001b[0m\u001b[0m\n\u001b[1;32m----> 3\u001b[1;33m \u001b[0mcount\u001b[0m \u001b[1;33m=\u001b[0m \u001b[0mmy_dict\u001b[0m\u001b[1;33m[\u001b[0m\u001b[1;34m\"count\"\u001b[0m\u001b[1;33m]\u001b[0m\u001b[1;33m\u001b[0m\u001b[1;33m\u001b[0m\u001b[0m\n\u001b[0m\u001b[0;32m      4\u001b[0m \u001b[0mprint\u001b[0m\u001b[1;33m(\u001b[0m\u001b[0mcount\u001b[0m\u001b[1;33m)\u001b[0m\u001b[1;33m\u001b[0m\u001b[1;33m\u001b[0m\u001b[0m\n\u001b[0;32m      5\u001b[0m \u001b[1;31m#returns KeyError\u001b[0m\u001b[1;33m\u001b[0m\u001b[1;33m\u001b[0m\u001b[1;33m\u001b[0m\u001b[0m\n",
      "\u001b[1;31mKeyError\u001b[0m: 'count'"
     ]
    }
   ],
   "source": [
    "my_dict = {\"car\": \"BMW\", \"price\": 50000}\n",
    "#we falsy assume the key \"count\" is contained in the dictionary\n",
    "count = my_dict[\"count\"]\n",
    "print(count)\n",
    "#returns KeyError"
   ]
  },
  {
   "cell_type": "code",
   "execution_count": 2,
   "metadata": {},
   "outputs": [
    {
     "name": "stdout",
     "output_type": "stream",
     "text": [
      "None\n",
      "0\n"
     ]
    }
   ],
   "source": [
    "my_dict = {\"car\": \"BMW\", \"price\": 50000}\n",
    "count = my_dict.get(\"count\")\n",
    "print(count)\n",
    "#does not error when the key is not available, retuns None\n",
    "\n",
    "#set a default (so that None is not returend)\n",
    "count = my_dict.get(\"count\", 0)\n",
    "print(count)"
   ]
  },
  {
   "cell_type": "code",
   "execution_count": 3,
   "metadata": {},
   "outputs": [
    {
     "name": "stdout",
     "output_type": "stream",
     "text": [
      "0\n",
      "{'car': 'BMW', 'price': 50000, 'count': 0}\n"
     ]
    }
   ],
   "source": [
    "#Update the dictioanry with a default\n",
    "count = my_dict.setdefault(\"count\", 0)\n",
    "print(count)\n",
    "print(my_dict)"
   ]
  },
  {
   "cell_type": "markdown",
   "metadata": {},
   "source": [
    "7) Count hashable objects with **collections.Counter**"
   ]
  },
  {
   "cell_type": "code",
   "execution_count": 23,
   "metadata": {},
   "outputs": [
    {
     "name": "stdout",
     "output_type": "stream",
     "text": [
      "Counter({3: 7, 7: 6, 4: 3, 1: 2})\n",
      "There are 3 fours\n",
      "There are 0 99's\n"
     ]
    }
   ],
   "source": [
    "#if you need to count # of elemets in list\n",
    "from collections import Counter\n",
    "my_list = [1, 1, 3, 3, 3, 3, 4, 7, 7, 7, 3, 3, 3, 4, 4, 7, 7, 7]\n",
    "counter = Counter(my_list)\n",
    "print(counter)\n",
    "#also sorts most common item in front\n",
    "\n",
    "#count of specific item\n",
    "print(\"There are\", counter[4], \"fours\")\n",
    "print(\"There are\", counter[99], \"99's\")\n"
   ]
  },
  {
   "cell_type": "code",
   "execution_count": 26,
   "metadata": {},
   "outputs": [
    {
     "name": "stdout",
     "output_type": "stream",
     "text": [
      "[(3, 7), (7, 6), (4, 3)]\n",
      "[(3, 7)]\n",
      "3\n"
     ]
    }
   ],
   "source": [
    "#Most common - returns a list of tuples with value then count\n",
    "\n",
    "#top 3 most common\n",
    "most_common = counter.most_common(3)\n",
    "print(most_common)\n",
    "\n",
    "#top 31 most common\n",
    "most_common = counter.most_common(1)\n",
    "print(most_common)\n",
    "\n",
    "#to access the value of the most common item\n",
    "most_common = counter.most_common(1)\n",
    "#first get the first (0) item in the list to get the first tuple\n",
    "#then the first (0) to get the value\n",
    "print(most_common[0][0])"
   ]
  },
  {
   "cell_type": "markdown",
   "metadata": {},
   "source": [
    "8) form strings using **f-strings**"
   ]
  },
  {
   "cell_type": "code",
   "execution_count": 27,
   "metadata": {},
   "outputs": [
    {
     "name": "stdout",
     "output_type": "stream",
     "text": [
      "hello phil\n"
     ]
    }
   ],
   "source": [
    "name = 'phil'\n",
    "mystring = f\"hello {name}\"\n",
    "print(mystring)"
   ]
  },
  {
   "cell_type": "markdown",
   "metadata": {},
   "source": [
    "BONUS: Merge dictionaries (Python 3.9)\n"
   ]
  },
  {
   "cell_type": "code",
   "execution_count": 25,
   "metadata": {},
   "outputs": [
    {
     "name": "stdout",
     "output_type": "stream",
     "text": [
      "{'name': 'Alex', 'age': 25, 'city': 'New York'}\n"
     ]
    }
   ],
   "source": [
    "d1 = {\"name\": \"Alex\", \"age\": 25}\n",
    "d2 = {\"name\": \"Alex\", \"city\": \"New York\"}\n",
    "merged_dict = d1 | d2\n",
    "print(merged_dict)"
   ]
  }
 ],
 "metadata": {
  "interpreter": {
   "hash": "84ae969a0e4ae7a96327d0072ec77e9b7b72bb7475399bc91d70b97835a1cac1"
  },
  "kernelspec": {
   "display_name": "Python 3.9.7 64-bit",
   "language": "python",
   "name": "python3"
  },
  "language_info": {
   "codemirror_mode": {
    "name": "ipython",
    "version": 3
   },
   "file_extension": ".py",
   "mimetype": "text/x-python",
   "name": "python",
   "nbconvert_exporter": "python",
   "pygments_lexer": "ipython3",
   "version": "3.9.7"
  },
  "orig_nbformat": 4
 },
 "nbformat": 4,
 "nbformat_minor": 2
}
