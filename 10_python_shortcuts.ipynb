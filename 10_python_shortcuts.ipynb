{
 "cells": [
  {
   "cell_type": "markdown",
   "metadata": {},
   "source": [
    "10 Python Shortcuts You Need To Know\n",
    "https://www.youtube.com/watch?v=CssrFJGH_dU&list=WL&index=1&t=47s"
   ]
  },
  {
   "cell_type": "code",
   "execution_count": 4,
   "metadata": {},
   "outputs": [
    {
     "name": "stdout",
     "output_type": "stream",
     "text": [
      "hello phil\n",
      "hello phil\n",
      "hello phil\n"
     ]
    }
   ],
   "source": [
    "#f strings *v 3.6+)\n",
    "\n",
    "name = 'phil'\n",
    "print('hello', name)\n",
    "print('hello ' + name)\n",
    "print(f'hello {name}')"
   ]
  },
  {
   "cell_type": "code",
   "execution_count": 18,
   "metadata": {},
   "outputs": [
    {
     "name": "stdout",
     "output_type": "stream",
     "text": [
      "1\n",
      "1 2 3 4\n",
      "x y\n",
      "1 2\n",
      "('x', 1) ('y', 2)\n"
     ]
    }
   ],
   "source": [
    "#UNPACKING\n",
    "#assing variables to values within a collection\n",
    "\n",
    "tup = (1, 2, 3, 4)\n",
    "lst = [1, 2, 3, 4]\n",
    "str = \"Phil\"\n",
    "\n",
    "dic = {\"x\":1, \"y\":2, \"z\":3 }\n",
    "\n",
    "coords = [4,5]\n",
    "\n",
    "#COULD do\n",
    "a = tup[0]\n",
    "b = tup[1]\n",
    "C = tup[2]\n",
    "\n",
    "#but shorter to do\n",
    "a, b, c, d = tup\n",
    "print(a)\n",
    "print(a,b,c,d)\n",
    "\n",
    "#dictionary keys\n",
    "x, y, z = dic\n",
    "print(x, y)\n",
    "\n",
    "\n",
    "#dictionary values\n",
    "x, y, z = dic.values()\n",
    "print(x, y)\n",
    "\n",
    "\n",
    "#dictionary pairs as a tuple\n",
    "x, y, z = dic.items()\n",
    "print(x, y)\n"
   ]
  },
  {
   "cell_type": "code",
   "execution_count": 20,
   "metadata": {},
   "outputs": [
    {
     "name": "stdout",
     "output_type": "stream",
     "text": [
      "400 500\n"
     ]
    }
   ],
   "source": [
    "#multiple assignment/variable swap\n",
    "#assign vars on 1 line\n",
    "\n",
    "#assign on 1 line\n",
    "w, h = 400, 500\n",
    "\n",
    "#swap values\n",
    "w, h = h, w\n",
    "\n",
    "print(h,w)\n",
    "\n"
   ]
  },
  {
   "cell_type": "code",
   "execution_count": 24,
   "metadata": {},
   "outputs": [
    {
     "name": "stdout",
     "output_type": "stream",
     "text": [
      "[0, 0, 0, 0, 0, 0, 0, 0, 0, 0, 0, 0, 0, 0, 0, 0, 0, 0, 0, 0, 0, 0, 0, 0, 0, 0, 0, 0, 0, 0, 0, 0, 0, 0, 0, 0, 0, 0, 0, 0, 0, 0, 0, 0, 0, 0, 0, 0, 0, 0, 0, 0, 0, 0, 0, 0, 0, 0, 0, 0, 0, 0, 0, 0, 0, 0, 0, 0, 0, 0, 0, 0, 0, 0, 0, 0, 0, 0, 0, 0, 0, 0, 0, 0, 0, 0, 0, 0, 0, 0, 0, 0, 0, 0, 0, 0, 0, 0, 0, 0]\n",
      "\n",
      "[0, 0, 0, 0, 0, 0, 0, 0, 0, 0, 0, 0, 0, 0, 0, 0, 0, 0, 0, 0, 0, 0, 0, 0, 0, 0, 0, 0, 0, 0, 0, 0, 0, 0, 0, 0, 0, 0, 0, 0, 0, 0, 0, 0, 0, 0, 0, 0, 0, 0]\n",
      "\n",
      "[96, 97, 98, 99]\n"
     ]
    }
   ],
   "source": [
    "#comprehensions\n",
    "\n",
    "lst = [0 for i in range (100)]\n",
    "print(lst)\n",
    "print()\n",
    "\n",
    "lst = [0 for i in range (100) if i % 2 == 0]\n",
    "print(lst)\n",
    "print()\n",
    "\n",
    "lst = [i for i in range (100) if i > 95]\n",
    "print(lst)\n"
   ]
  },
  {
   "cell_type": "code",
   "execution_count": 27,
   "metadata": {},
   "outputs": [
    {
     "name": "stdout",
     "output_type": "stream",
     "text": [
      "hellohellohellohellohello\n",
      "[1, 2, 3, 1, 2, 3, 1, 2, 3, 1, 2, 3, 1, 2, 3]\n"
     ]
    }
   ],
   "source": [
    "#object multiplicaiton\n",
    "m = 5\n",
    "x = 'hello'\n",
    "l = [1, 2, 3]\n",
    "\n",
    "a = x * m\n",
    "print(a)\n",
    "\n",
    "b = l * m\n",
    "print(b)"
   ]
  },
  {
   "cell_type": "code",
   "execution_count": 29,
   "metadata": {},
   "outputs": [
    {
     "name": "stdout",
     "output_type": "stream",
     "text": [
      "0\n",
      "0\n"
     ]
    }
   ],
   "source": [
    "#inline tuernary condition\n",
    "\n",
    "x = 1 if 2 > 3 else 0\n",
    "print(x)\n",
    "\n",
    "\n",
    "#the long verion would be\n",
    "if 2 > 3:\n",
    "    x = 1\n",
    "else:\n",
    "    x = 0\n",
    "print(x)"
   ]
  },
  {
   "cell_type": "code",
   "execution_count": 39,
   "metadata": {},
   "outputs": [
    {
     "name": "stdout",
     "output_type": "stream",
     "text": [
      "[('a', 1), ('b', 2), ('c', 3)]\n",
      "[('bob', 42), ('tim', 23), ('phil', 53), ('mike', 22)]\n",
      "bob\n",
      "42\n",
      "phil\n",
      "53\n"
     ]
    }
   ],
   "source": [
    "#zip\n",
    "#combines collections together, allowing to iterate together\n",
    "\n",
    "letters = ['a', 'b', 'c']\n",
    "nums = [1, 2, 3]\n",
    "\n",
    "#tuples that combine the calues\n",
    "print(list(zip(letters, nums)))\n",
    " \n",
    "\n",
    "names = ['bob', 'tim', 'phil', 'mike']\n",
    "ages = [42, 23, 53, 22]\n",
    "print(list(zip(names, ages)))\n",
    "\n",
    "for name, age in zip(names, ages):\n",
    "    if age > 30:\n",
    "        print(name)\n",
    "        "
   ]
  },
  {
   "cell_type": "code",
   "execution_count": 16,
   "metadata": {},
   "outputs": [
    {
     "name": "stdout",
     "output_type": "stream",
     "text": [
      "100 200 300\n",
      "None 100 None\n",
      "10 20 30\n"
     ]
    }
   ],
   "source": [
    "# *args     arguments (positional)\n",
    "# **kwargs  keword aguments\n",
    "\n",
    "def func1(arg1, arg2, arg3):\n",
    "    print(arg1, arg2, arg3)\n",
    "\n",
    "\n",
    "def func2(arg1=None, arg2=None, arg3=None):\n",
    "    print(arg1, arg2, arg3)\n",
    "\n",
    "\n",
    "func1(100, 200, 300)\n",
    "func2(arg2=100)\n",
    "\n",
    "args = [10, 20, 30]\n",
    "kwargs = {\"arg2\":2, \"arg1\": 1, \"arg3\": 3}\n",
    "\n",
    "func1(*args)"
   ]
  },
  {
   "cell_type": "code",
   "execution_count": 12,
   "metadata": {},
   "outputs": [
    {
     "name": "stdout",
     "output_type": "stream",
     "text": [
      "arg2 arg1 arg3\n",
      "1 2 3\n"
     ]
    }
   ],
   "source": [
    "# 1 * pass as positional argumets/parameter\n",
    "func2(*kwargs)\n",
    "\n",
    "# 2 ** - the key gets passed as the  argumets/parameter\n",
    "func2(**kwargs)"
   ]
  },
  {
   "cell_type": "code",
   "execution_count": 19,
   "metadata": {},
   "outputs": [
    {
     "name": "stdout",
     "output_type": "stream",
     "text": [
      "found!\n"
     ]
    }
   ],
   "source": [
    "#For Elsse & While ELse\n",
    "# Determine if code broke out of a for/while loop w/o having to use a flag\n",
    "\n",
    "search = [1, 2, 3, 4, 5, 6, 7]\n",
    "target = 7\n",
    "\n",
    "#common way \n",
    "found = False\n",
    "for element in search:\n",
    "    if element == target:\n",
    "        print('found!')\n",
    "        found = True\n",
    "        break\n",
    "if not found:\n",
    "    print('NOT FOUND')\n",
    "        "
   ]
  },
  {
   "cell_type": "code",
   "execution_count": 20,
   "metadata": {},
   "outputs": [
    {
     "name": "stdout",
     "output_type": "stream",
     "text": [
      "found!\n"
     ]
    }
   ],
   "source": [
    "#a faster way:\n",
    "for element in search:\n",
    "    if element == target:\n",
    "        print('found!')\n",
    "        break\n",
    "#else\n",
    "else:\n",
    "    print('NOT FOUND')\n",
    "        \n",
    "\n"
   ]
  },
  {
   "cell_type": "code",
   "execution_count": 25,
   "metadata": {},
   "outputs": [
    {
     "name": "stdout",
     "output_type": "stream",
     "text": [
      "[[1, 2], [3, 4], [4, 2], [-1, 3], [4, 5], [2, 3]]\n",
      "[[-1, 3], [1, 2], [2, 3], [3, 4], [4, 2], [4, 5]]\n",
      "[[1, 2], [4, 2], [-1, 3], [2, 3], [3, 4], [4, 5]]\n"
     ]
    }
   ],
   "source": [
    "#sort by key\n",
    "\n",
    "lst = [[1,2], [3,4], [4,2], [-1,3], [4,5], [2,3]]\n",
    "print(lst)\n",
    "lst.sort()\n",
    "print(lst)\n",
    "\n",
    "#sort by second value in sublist\n",
    "lst.sort(key=lambda x: x[1])\n",
    "print(lst)"
   ]
  },
  {
   "cell_type": "code",
   "execution_count": 37,
   "metadata": {},
   "outputs": [
    {
     "name": "stdout",
     "output_type": "stream",
     "text": [
      "accumilited lists\n",
      "[1, 3, 6, 10, 15]\n",
      "chained lists\n",
      "[1, 2, 3, 4, 5, 'a', 'b', 'c']\n",
      "compressed list:\n",
      "['tim', 'tina']\n"
     ]
    }
   ],
   "source": [
    "#itertools\n",
    "\n",
    "import itertools\n",
    "\n",
    "print('accumilited lists')\n",
    "lst = [1, 2, 3, 4, 5]\n",
    "sum_lst = itertools.accumulate(lst)\n",
    "print(list(sum_lst)) \n",
    "\n",
    "print('chained lists')\n",
    "lst2 = ['a', 'b', 'c']\n",
    "sum_lst = itertools.chain(lst, lst2)\n",
    "print(list(sum_lst)) \n",
    "\n",
    "print('compressed list:')\n",
    "names = ['tim', 'bob', 'rodger', 'tina']\n",
    "istrue = [1, 0, 0, 1]\n",
    "compressed_lst = itertools.compress(names, istrue)\n",
    "print(list(compressed_lst)) "
   ]
  }
 ],
 "metadata": {
  "interpreter": {
   "hash": "eabb86107e590cff15b9e52f18202900a39f367bd87c739e30f1c47d4db03be8"
  },
  "kernelspec": {
   "display_name": "Python 3.8.3 ('base')",
   "language": "python",
   "name": "python3"
  },
  "language_info": {
   "codemirror_mode": {
    "name": "ipython",
    "version": 3
   },
   "file_extension": ".py",
   "mimetype": "text/x-python",
   "name": "python",
   "nbconvert_exporter": "python",
   "pygments_lexer": "ipython3",
   "version": "3.8.3"
  },
  "orig_nbformat": 4
 },
 "nbformat": 4,
 "nbformat_minor": 2
}
