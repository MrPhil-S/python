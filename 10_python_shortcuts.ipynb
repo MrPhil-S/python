{
 "cells": [
  {
   "cell_type": "markdown",
   "metadata": {},
   "source": [
    "10 Python Shortcuts You Need To Know\n",
    "https://www.youtube.com/watch?v=CssrFJGH_dU&list=WL&index=1&t=47s"
   ]
  },
  {
   "cell_type": "code",
   "execution_count": 4,
   "metadata": {},
   "outputs": [
    {
     "name": "stdout",
     "output_type": "stream",
     "text": [
      "hello phil\n",
      "hello phil\n",
      "hello phil\n"
     ]
    }
   ],
   "source": [
    "#f strings *v 3.6+)\n",
    "\n",
    "name = 'phil'\n",
    "print('hello', name)\n",
    "print('hello ' + name)\n",
    "print(f'hello {name}')"
   ]
  },
  {
   "cell_type": "code",
   "execution_count": 18,
   "metadata": {},
   "outputs": [
    {
     "name": "stdout",
     "output_type": "stream",
     "text": [
      "1\n",
      "1 2 3 4\n",
      "x y\n",
      "1 2\n",
      "('x', 1) ('y', 2)\n"
     ]
    }
   ],
   "source": [
    "#UNPACKING\n",
    "#assing variables to values within a collection\n",
    "\n",
    "tup = (1, 2, 3, 4)\n",
    "lst = [1, 2, 3, 4]\n",
    "str = \"Phil\"\n",
    "\n",
    "dic = {\"x\":1, \"y\":2, \"z\":3 }\n",
    "\n",
    "coords = [4,5]\n",
    "\n",
    "#COULD do\n",
    "a = tup[0]\n",
    "b = tup[1]\n",
    "C = tup[2]\n",
    "\n",
    "#but shorter to do\n",
    "a, b, c, d = tup\n",
    "print(a)\n",
    "print(a,b,c,d)\n",
    "\n",
    "#dictionary keys\n",
    "x, y, z = dic\n",
    "print(x, y)\n",
    "\n",
    "\n",
    "#dictionary values\n",
    "x, y, z = dic.values()\n",
    "print(x, y)\n",
    "\n",
    "\n",
    "#dictionary pairs as a tuple\n",
    "x, y, z = dic.items()\n",
    "print(x, y)\n"
   ]
  },
  {
   "cell_type": "code",
   "execution_count": 20,
   "metadata": {},
   "outputs": [
    {
     "name": "stdout",
     "output_type": "stream",
     "text": [
      "400 500\n"
     ]
    }
   ],
   "source": [
    "#multiple assignment/variable swap\n",
    "#assign vars on 1 line\n",
    "\n",
    "#assign on 1 line\n",
    "w, h = 400, 500\n",
    "\n",
    "#swap values\n",
    "w, h = h, w\n",
    "\n",
    "print(h,w)\n",
    "\n"
   ]
  },
  {
   "cell_type": "code",
   "execution_count": 24,
   "metadata": {},
   "outputs": [
    {
     "name": "stdout",
     "output_type": "stream",
     "text": [
      "[0, 0, 0, 0, 0, 0, 0, 0, 0, 0, 0, 0, 0, 0, 0, 0, 0, 0, 0, 0, 0, 0, 0, 0, 0, 0, 0, 0, 0, 0, 0, 0, 0, 0, 0, 0, 0, 0, 0, 0, 0, 0, 0, 0, 0, 0, 0, 0, 0, 0, 0, 0, 0, 0, 0, 0, 0, 0, 0, 0, 0, 0, 0, 0, 0, 0, 0, 0, 0, 0, 0, 0, 0, 0, 0, 0, 0, 0, 0, 0, 0, 0, 0, 0, 0, 0, 0, 0, 0, 0, 0, 0, 0, 0, 0, 0, 0, 0, 0, 0]\n",
      "\n",
      "[0, 0, 0, 0, 0, 0, 0, 0, 0, 0, 0, 0, 0, 0, 0, 0, 0, 0, 0, 0, 0, 0, 0, 0, 0, 0, 0, 0, 0, 0, 0, 0, 0, 0, 0, 0, 0, 0, 0, 0, 0, 0, 0, 0, 0, 0, 0, 0, 0, 0]\n",
      "\n",
      "[96, 97, 98, 99]\n"
     ]
    }
   ],
   "source": [
    "#comprehensions\n",
    "\n",
    "lst = [0 for i in range (100)]\n",
    "print(lst)\n",
    "print()\n",
    "\n",
    "lst = [0 for i in range (100) if i % 2 == 0]\n",
    "print(lst)\n",
    "print()\n",
    "\n",
    "lst = [i for i in range (100) if i > 95]\n",
    "print(lst)\n"
   ]
  },
  {
   "cell_type": "code",
   "execution_count": 27,
   "metadata": {},
   "outputs": [
    {
     "name": "stdout",
     "output_type": "stream",
     "text": [
      "hellohellohellohellohello\n",
      "[1, 2, 3, 1, 2, 3, 1, 2, 3, 1, 2, 3, 1, 2, 3]\n"
     ]
    }
   ],
   "source": [
    "#object multiplicaiton\n",
    "m = 5\n",
    "x = 'hello'\n",
    "l = [1, 2, 3]\n",
    "\n",
    "a = x * m\n",
    "print(a)\n",
    "\n",
    "b = l * m\n",
    "print(b)"
   ]
  },
  {
   "cell_type": "code",
   "execution_count": 29,
   "metadata": {},
   "outputs": [
    {
     "name": "stdout",
     "output_type": "stream",
     "text": [
      "0\n",
      "0\n"
     ]
    }
   ],
   "source": [
    "#inline tuernary condition\n",
    "\n",
    "x = 1 if 2 > 3 else 0\n",
    "print(x)\n",
    "\n",
    "\n",
    "#the long verion would be\n",
    "if 2 > 3:\n",
    "    x = 1\n",
    "else:\n",
    "    x = 0\n",
    "print(x)"
   ]
  },
  {
   "cell_type": "code",
   "execution_count": 39,
   "metadata": {},
   "outputs": [
    {
     "name": "stdout",
     "output_type": "stream",
     "text": [
      "[('a', 1), ('b', 2), ('c', 3)]\n",
      "[('bob', 42), ('tim', 23), ('phil', 53), ('mike', 22)]\n",
      "bob\n",
      "42\n",
      "phil\n",
      "53\n"
     ]
    }
   ],
   "source": [
    "#zip\n",
    "#combines collections together, allowing to iterate together\n",
    "\n",
    "letters = ['a', 'b', 'c']\n",
    "nums = [1, 2, 3]\n",
    "\n",
    "#tuples that combine the calues\n",
    "print(list(zip(letters, nums)))\n",
    " \n",
    "\n",
    "names = ['bob', 'tim', 'phil', 'mike']\n",
    "ages = [42, 23, 53, 22]\n",
    "print(list(zip(names, ages)))\n",
    "\n",
    "for name, age in zip(names, ages):\n",
    "    if age > 30:\n",
    "        print(name)\n",
    "        "
   ]
  },
  {
   "cell_type": "code",
   "execution_count": null,
   "metadata": {},
   "outputs": [],
   "source": [
    "# *arge     arguments (positional)\n",
    "# **kwargs  keword aguments\n"
   ]
  }
 ],
 "metadata": {
  "interpreter": {
   "hash": "84ae969a0e4ae7a96327d0072ec77e9b7b72bb7475399bc91d70b97835a1cac1"
  },
  "kernelspec": {
   "display_name": "Python 3.9.7 64-bit",
   "language": "python",
   "name": "python3"
  },
  "language_info": {
   "codemirror_mode": {
    "name": "ipython",
    "version": 3
   },
   "file_extension": ".py",
   "mimetype": "text/x-python",
   "name": "python",
   "nbconvert_exporter": "python",
   "pygments_lexer": "ipython3",
   "version": "3.9.7"
  },
  "orig_nbformat": 4
 },
 "nbformat": 4,
 "nbformat_minor": 2
}
