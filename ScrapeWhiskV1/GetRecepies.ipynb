{
 "cells": [
  {
   "cell_type": "markdown",
   "metadata": {},
   "source": [
    "Source for getting header info:  https://betterprogramming.pub/web-scraping-behind-authentication-with-python-be5f82eb85f0"
   ]
  },
  {
   "cell_type": "code",
   "execution_count": 3,
   "metadata": {},
   "outputs": [],
   "source": [
    "import requests\n",
    "#from bs4 import BeautifulSoup as bs\n",
    "import selenium\n",
    "\n",
    "\n",
    "cookies = {\n",
    "    '_gid': 'GA1.2.1028671316.1663131437',\n",
    "    '_gcl_au': '1.1.2054277255.1663131439',\n",
    "    'whisk.sdk.cookietest': 'name',\n",
    "    '__zlcmid': '1BxlE2F2mKNEYkr',\n",
    "    '_whsk': '7',\n",
    "    'NPS_91358297_last_seen': '1663131470534',\n",
    "    'ab.storage.deviceId.450e78b8-e08d-4222-953b-ab2aedc7afa8': '%7B%22g%22%3A%22260d913f-392a-82fc-965b-bf126fec8d81%22%2C%22c%22%3A1663131450210%2C%22l%22%3A1663131470559%7D',\n",
    "    'ab.storage.userId.450e78b8-e08d-4222-953b-ab2aedc7afa8': '%7B%22g%22%3A%22102b956cdd3d3aa4a728afdaea5112614a8%22%2C%22c%22%3A1663131470554%2C%22l%22%3A1663131470560%7D',\n",
    "    '_ga_2TLGV4W0K3': 'GS1.1.1663131436.1.1.1663132213.0.0.0',\n",
    "    'whisk.USER_TOKEN': 'RuOxmSNN0JJktqCREGGvx7pJUkGhvmvv8a6aPGzTwYTT5U3AX7RkLmp9Ia14wq8Z',\n",
    "    'ab.storage.sessionId.450e78b8-e08d-4222-953b-ab2aedc7afa8': '%7B%22g%22%3A%22d79581cf-1cc6-b5af-a62e-02fa4f16b9da%22%2C%22e%22%3A1663135326768%2C%22c%22%3A1663131470558%2C%22l%22%3A1663133526768%7D',\n",
    "    '_ga_2ECJSVYEGZ': 'GS1.1.1663131439.1.1.1663133527.0.0.0',\n",
    "    '_ga': 'GA1.1.1921458850.1663131436',\n",
    "    '_ga_4DPDHXK954': 'GS1.1.1663131439.1.1.1663133527.0.0.0',\n",
    "    'NPS_91358297_throttle': '1663176727194',\n",
    "}\n",
    "\n",
    "headers = {\n",
    "    'authority': 'my.whisk.com',\n",
    "    'accept': 'text/html,application/xhtml+xml,application/xml;q=0.9,image/avif,image/webp,image/apng,*/*;q=0.8,application/signed-exchange;v=b3;q=0.9',\n",
    "    'accept-language': 'en-US,en;q=0.9',\n",
    "    'cache-control': 'max-age=0',\n",
    "    # Requests sorts cookies= alphabetically\n",
    "    # 'cookie': '_gid=GA1.2.1028671316.1663131437; _gcl_au=1.1.2054277255.1663131439; whisk.sdk.cookietest=name; __zlcmid=1BxlE2F2mKNEYkr; _whsk=7; NPS_91358297_last_seen=1663131470534; ab.storage.deviceId.450e78b8-e08d-4222-953b-ab2aedc7afa8=%7B%22g%22%3A%22260d913f-392a-82fc-965b-bf126fec8d81%22%2C%22c%22%3A1663131450210%2C%22l%22%3A1663131470559%7D; ab.storage.userId.450e78b8-e08d-4222-953b-ab2aedc7afa8=%7B%22g%22%3A%22102b956cdd3d3aa4a728afdaea5112614a8%22%2C%22c%22%3A1663131470554%2C%22l%22%3A1663131470560%7D; _ga_2TLGV4W0K3=GS1.1.1663131436.1.1.1663132213.0.0.0; whisk.USER_TOKEN=RuOxmSNN0JJktqCREGGvx7pJUkGhvmvv8a6aPGzTwYTT5U3AX7RkLmp9Ia14wq8Z; ab.storage.sessionId.450e78b8-e08d-4222-953b-ab2aedc7afa8=%7B%22g%22%3A%22d79581cf-1cc6-b5af-a62e-02fa4f16b9da%22%2C%22e%22%3A1663135326768%2C%22c%22%3A1663131470558%2C%22l%22%3A1663133526768%7D; _ga_2ECJSVYEGZ=GS1.1.1663131439.1.1.1663133527.0.0.0; _ga=GA1.1.1921458850.1663131436; _ga_4DPDHXK954=GS1.1.1663131439.1.1.1663133527.0.0.0; NPS_91358297_throttle=1663176727194',\n",
    "    'dnt': '1',\n",
    "    'referer': 'https://whisk.com/',\n",
    "    'sec-ch-ua': '\"Chromium\";v=\"104\", \" Not A;Brand\";v=\"99\", \"Google Chrome\";v=\"104\"',\n",
    "    'sec-ch-ua-mobile': '?0',\n",
    "    'sec-ch-ua-platform': '\"Windows\"',\n",
    "    'sec-fetch-dest': 'document',\n",
    "    'sec-fetch-mode': 'navigate',\n",
    "    'sec-fetch-site': 'same-origin',\n",
    "    'sec-fetch-user': '?1',\n",
    "    'upgrade-insecure-requests': '1',\n",
    "    'user-agent': 'Mozilla/5.0 (Windows NT 10.0; Win64; x64) AppleWebKit/537.36 (KHTML, like Gecko) Chrome/104.0.0.0 Safari/537.36',\n",
    "}\n",
    "\n",
    "url  = 'https://my.whisk.com/'\n",
    "#url  = 'https://my.whisk.com/recipes'"
   ]
  },
  {
   "cell_type": "code",
   "execution_count": 4,
   "metadata": {},
   "outputs": [
    {
     "data": {
      "text/plain": [
       "200"
      ]
     },
     "execution_count": 4,
     "metadata": {},
     "output_type": "execute_result"
    }
   ],
   "source": [
    "r = requests.get(url, cookies=cookies, headers=headers)\n",
    "r.status_code\n",
    "#r.content"
   ]
  },
  {
   "cell_type": "code",
   "execution_count": 5,
   "metadata": {},
   "outputs": [],
   "source": [
    "\n",
    "#soup = bs(r.text, 'html.parser')\n",
    "#soup"
   ]
  },
  {
   "cell_type": "code",
   "execution_count": 8,
   "metadata": {},
   "outputs": [],
   "source": [
    "from selenium import webdriver\n",
    "\n",
    "browser = webdriver.Firefox()\n",
    "\n",
    "browser.get(url)\n",
    "#print(browser.page_source)\n",
    "\n",
    "#element = browser.find_element_by_xpath(\"html\")\n",
    "#print(\"Final path: \",findXPath(element,\"trailingPeRatio\",\"html\"))\n",
    "\n",
    "#browser.quit()"
   ]
  },
  {
   "cell_type": "code",
   "execution_count": 7,
   "metadata": {},
   "outputs": [
    {
     "ename": "NameError",
     "evalue": "name 'FirefoxOptions' is not defined",
     "output_type": "error",
     "traceback": [
      "\u001b[1;31m---------------------------------------------------------------------------\u001b[0m",
      "\u001b[1;31mNameError\u001b[0m                                 Traceback (most recent call last)",
      "\u001b[1;32m<ipython-input-7-5aee3314c1a2>\u001b[0m in \u001b[0;36m<module>\u001b[1;34m\u001b[0m\n\u001b[0;32m      1\u001b[0m \u001b[1;32mimport\u001b[0m \u001b[0mselenium\u001b[0m\u001b[1;33m\u001b[0m\u001b[1;33m\u001b[0m\u001b[0m\n\u001b[1;32m----> 2\u001b[1;33m \u001b[0moptions\u001b[0m \u001b[1;33m=\u001b[0m \u001b[0mFirefoxOptions\u001b[0m\u001b[1;33m(\u001b[0m\u001b[1;33m)\u001b[0m\u001b[1;33m\u001b[0m\u001b[1;33m\u001b[0m\u001b[0m\n\u001b[0m\u001b[0;32m      3\u001b[0m \u001b[0mdriver\u001b[0m \u001b[1;33m=\u001b[0m \u001b[0mwebdriver\u001b[0m\u001b[1;33m.\u001b[0m\u001b[0mFirefox\u001b[0m\u001b[1;33m(\u001b[0m\u001b[0moptions\u001b[0m\u001b[1;33m=\u001b[0m\u001b[0moptions\u001b[0m\u001b[1;33m)\u001b[0m\u001b[1;33m\u001b[0m\u001b[1;33m\u001b[0m\u001b[0m\n\u001b[0;32m      4\u001b[0m \u001b[0mdriver\u001b[0m\u001b[1;33m.\u001b[0m\u001b[0mquit\u001b[0m\u001b[1;33m(\u001b[0m\u001b[1;33m)\u001b[0m\u001b[1;33m\u001b[0m\u001b[1;33m\u001b[0m\u001b[0m\n",
      "\u001b[1;31mNameError\u001b[0m: name 'FirefoxOptions' is not defined"
     ]
    }
   ],
   "source": [
    "import selenium\n",
    "options = FirefoxOptions()\n",
    "driver = webdriver.Firefox(options=options)\n",
    "driver.quit()"
   ]
  }
 ],
 "metadata": {
  "kernelspec": {
   "display_name": "Python 3.8.3 ('base')",
   "language": "python",
   "name": "python3"
  },
  "language_info": {
   "codemirror_mode": {
    "name": "ipython",
    "version": 3
   },
   "file_extension": ".py",
   "mimetype": "text/x-python",
   "name": "python",
   "nbconvert_exporter": "python",
   "pygments_lexer": "ipython3",
   "version": "3.8.3"
  },
  "orig_nbformat": 4,
  "vscode": {
   "interpreter": {
    "hash": "eabb86107e590cff15b9e52f18202900a39f367bd87c739e30f1c47d4db03be8"
   }
  }
 },
 "nbformat": 4,
 "nbformat_minor": 2
}
